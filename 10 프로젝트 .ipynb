{
 "cells": [
  {
   "cell_type": "markdown",
   "id": "cd01256c",
   "metadata": {},
   "source": [
    "프로젝트1 : 전화번호 가려주는 프로그램"
   ]
  },
  {
   "cell_type": "code",
   "execution_count": 2,
   "id": "afaedeb7",
   "metadata": {},
   "outputs": [],
   "source": [
    "numbers = '010-12345-23456'\n",
    "\n",
    "def change_num(nums) :\n",
    "    return anser"
   ]
  },
  {
   "cell_type": "code",
   "execution_count": 7,
   "id": "29289b10",
   "metadata": {},
   "outputs": [
    {
     "data": {
      "text/plain": [
       "str"
      ]
     },
     "execution_count": 7,
     "metadata": {},
     "output_type": "execute_result"
    }
   ],
   "source": [
    "type(numbers)"
   ]
  },
  {
   "cell_type": "code",
   "execution_count": 8,
   "id": "00a4b377",
   "metadata": {},
   "outputs": [
    {
     "data": {
      "text/plain": [
       "'23456'"
      ]
     },
     "execution_count": 8,
     "metadata": {},
     "output_type": "execute_result"
    }
   ],
   "source": [
    "numbers[-5:]"
   ]
  },
  {
   "cell_type": "code",
   "execution_count": 9,
   "id": "36c6c720",
   "metadata": {},
   "outputs": [
    {
     "data": {
      "text/plain": [
       "'010-12345-#####'"
      ]
     },
     "execution_count": 9,
     "metadata": {},
     "output_type": "execute_result"
    }
   ],
   "source": [
    "numbers.replace(numbers[-5:], '#####')"
   ]
  },
  {
   "cell_type": "code",
   "execution_count": 12,
   "id": "2b58b065",
   "metadata": {},
   "outputs": [],
   "source": [
    "def change_num(nums):\n",
    "    answer=nums.replace(nums[-5:],'#####')\n",
    "    return answer"
   ]
  },
  {
   "cell_type": "code",
   "execution_count": 13,
   "id": "6e137a2b",
   "metadata": {},
   "outputs": [
    {
     "data": {
      "text/plain": [
       "'010-123579-#####'"
      ]
     },
     "execution_count": 13,
     "metadata": {},
     "output_type": "execute_result"
    }
   ],
   "source": [
    "change_num('010-123579-24688')"
   ]
  },
  {
   "cell_type": "markdown",
   "id": "0a774b82",
   "metadata": {},
   "source": [
    "10-3. 프로젝트 2 : 리스트 평탄화"
   ]
  },
  {
   "cell_type": "code",
   "execution_count": 18,
   "id": "4f5499d5",
   "metadata": {},
   "outputs": [
    {
     "name": "stdout",
     "output_type": "stream",
     "text": [
      "[1, 2]\n",
      "3\n",
      "[[4, 5, 6], 7]\n",
      "8\n",
      "9\n"
     ]
    }
   ],
   "source": [
    "overlap = [[1,2],3,[[4,5,6],7],8,9]\n",
    "\n",
    "for element in overlap:\n",
    "    print(element)"
   ]
  },
  {
   "cell_type": "code",
   "execution_count": 19,
   "id": "a323eac8",
   "metadata": {},
   "outputs": [],
   "source": [
    "a = [[1,2],3,[[4,5,6],7],8,9]\n",
    "def flatten(data):\n",
    "    return output"
   ]
  },
  {
   "cell_type": "code",
   "execution_count": 20,
   "id": "66f1a78d",
   "metadata": {},
   "outputs": [
    {
     "data": {
      "text/plain": [
       "list"
      ]
     },
     "execution_count": 20,
     "metadata": {},
     "output_type": "execute_result"
    }
   ],
   "source": [
    "type(a[0])"
   ]
  },
  {
   "cell_type": "code",
   "execution_count": 24,
   "id": "92978a86",
   "metadata": {},
   "outputs": [],
   "source": [
    "def flatten(data):\n",
    "    output = []\n",
    "    for i in data:\n",
    "        if type(i) == list :\n",
    "            output += flatten(i)\n",
    "        else:\n",
    "            output.append(i)\n",
    "    return output"
   ]
  },
  {
   "cell_type": "code",
   "execution_count": 25,
   "id": "27fb06dd",
   "metadata": {},
   "outputs": [
    {
     "data": {
      "text/plain": [
       "[1, 2, 3, 4, 5, 6, 7, 8, 9]"
      ]
     },
     "execution_count": 25,
     "metadata": {},
     "output_type": "execute_result"
    }
   ],
   "source": [
    "a = [[1,2],3,[[4,5,6],7],8,9]\n",
    "flatten(a)"
   ]
  },
  {
   "cell_type": "markdown",
   "id": "63cec417",
   "metadata": {},
   "source": [
    "10-4 프로젝트 3 : 10 이하 숫자만 곱해주는 함수 "
   ]
  },
  {
   "cell_type": "code",
   "execution_count": 26,
   "id": "d28fcb6c",
   "metadata": {},
   "outputs": [
    {
     "name": "stdout",
     "output_type": "stream",
     "text": [
      "정수입니다.\n"
     ]
    }
   ],
   "source": [
    "x = 10\n",
    "\n",
    "if type(x) == int :\n",
    "    print('정수입니다.')"
   ]
  },
  {
   "cell_type": "code",
   "execution_count": 28,
   "id": "88e1e5ff",
   "metadata": {},
   "outputs": [],
   "source": [
    "x = 10.0\n",
    "if type(x) == int :\n",
    "    print('정수입니다.')"
   ]
  },
  {
   "cell_type": "code",
   "execution_count": 29,
   "id": "b6ee1d94",
   "metadata": {},
   "outputs": [
    {
     "name": "stdout",
     "output_type": "stream",
     "text": [
      "정수입니다.\n"
     ]
    }
   ],
   "source": [
    "x = 10 \n",
    "if x % 1 == 0 :\n",
    "    print('정수입니다.')"
   ]
  },
  {
   "cell_type": "code",
   "execution_count": 31,
   "id": "9632df52",
   "metadata": {},
   "outputs": [
    {
     "name": "stdout",
     "output_type": "stream",
     "text": [
      "정수입니다.\n"
     ]
    }
   ],
   "source": [
    "x = 10.0\n",
    "if x % 1 == 0 :\n",
    "    print('정수입니다.')"
   ]
  },
  {
   "cell_type": "code",
   "execution_count": 32,
   "id": "1bd05bcd",
   "metadata": {},
   "outputs": [],
   "source": [
    "def int_divider(x,y):\n",
    "    if x % 1 == 0 and y % 1 == 0:\n",
    "        answer = x / y\n",
    "    else:\n",
    "        print('정수만 가능합니다.')\n",
    "        answer = None\n",
    "        \n",
    "    return answer"
   ]
  },
  {
   "cell_type": "code",
   "execution_count": 33,
   "id": "5dd4e48f",
   "metadata": {},
   "outputs": [
    {
     "data": {
      "text/plain": [
       "3.3333333333333335"
      ]
     },
     "execution_count": 33,
     "metadata": {},
     "output_type": "execute_result"
    }
   ],
   "source": [
    "int_divider(10,3)"
   ]
  },
  {
   "cell_type": "code",
   "execution_count": 34,
   "id": "ff4b5ab0",
   "metadata": {},
   "outputs": [
    {
     "name": "stdout",
     "output_type": "stream",
     "text": [
      "정수만 가능합니다.\n"
     ]
    }
   ],
   "source": [
    "int_divider(-1,0.9)"
   ]
  },
  {
   "cell_type": "code",
   "execution_count": 35,
   "id": "3d914985",
   "metadata": {},
   "outputs": [
    {
     "data": {
      "text/plain": [
       "3.0"
      ]
     },
     "execution_count": 35,
     "metadata": {},
     "output_type": "execute_result"
    }
   ],
   "source": [
    "int_divider(6.0,2)"
   ]
  },
  {
   "cell_type": "code",
   "execution_count": 38,
   "id": "92445df6",
   "metadata": {},
   "outputs": [],
   "source": [
    "def mul(*values):\n",
    "    return output"
   ]
  },
  {
   "cell_type": "code",
   "execution_count": 39,
   "id": "b38fa4b5",
   "metadata": {},
   "outputs": [],
   "source": [
    "def mul(*values):\n",
    "    output = 1\n",
    "    for num in values:\n",
    "        output *=num"
   ]
  },
  {
   "cell_type": "code",
   "execution_count": 40,
   "id": "748fdcef",
   "metadata": {},
   "outputs": [],
   "source": [
    "def mul(*values):\n",
    "    output =1 \n",
    "    for num in values:\n",
    "        if num <= 10:\n",
    "            output *=num\n",
    "            "
   ]
  },
  {
   "cell_type": "code",
   "execution_count": 41,
   "id": "0a6b94ca",
   "metadata": {},
   "outputs": [],
   "source": [
    "def mul(*values):\n",
    "    output = 1\n",
    "    for num in values:\n",
    "        if num <=10:\n",
    "            output *=num\n",
    "        else:\n",
    "            pass\n",
    "    return output\n"
   ]
  },
  {
   "cell_type": "code",
   "execution_count": 43,
   "id": "b09ecb59",
   "metadata": {},
   "outputs": [
    {
     "data": {
      "text/plain": [
       "120"
      ]
     },
     "execution_count": 43,
     "metadata": {},
     "output_type": "execute_result"
    }
   ],
   "source": [
    "mul(2,3,4,5)"
   ]
  },
  {
   "cell_type": "code",
   "execution_count": 44,
   "id": "e3028c7c",
   "metadata": {},
   "outputs": [
    {
     "data": {
      "text/plain": [
       "30"
      ]
     },
     "execution_count": 44,
     "metadata": {},
     "output_type": "execute_result"
    }
   ],
   "source": [
    "mul(3,12,10)"
   ]
  },
  {
   "cell_type": "code",
   "execution_count": null,
   "id": "58e58742",
   "metadata": {},
   "outputs": [],
   "source": []
  }
 ],
 "metadata": {
  "kernelspec": {
   "display_name": "Python 3 (ipykernel)",
   "language": "python",
   "name": "python3"
  },
  "language_info": {
   "codemirror_mode": {
    "name": "ipython",
    "version": 3
   },
   "file_extension": ".py",
   "mimetype": "text/x-python",
   "name": "python",
   "nbconvert_exporter": "python",
   "pygments_lexer": "ipython3",
   "version": "3.9.7"
  }
 },
 "nbformat": 4,
 "nbformat_minor": 5
}
